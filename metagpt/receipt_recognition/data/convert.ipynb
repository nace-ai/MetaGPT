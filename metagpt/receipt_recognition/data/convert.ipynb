{
 "cells": [
  {
   "cell_type": "code",
   "execution_count": 2,
   "metadata": {},
   "outputs": [],
   "source": [
    "import json\n",
    "\n",
    "# Read JSON data\n",
    "with open('receiptrecognition_validate.json', 'r') as json_file:\n",
    "    data = json.load(json_file)\n",
    "\n",
    "# Write to JSONL\n",
    "with open('receiptrecognition_validate.jsonl', 'w') as jsonl_file:\n",
    "    for item in data:\n",
    "        modified_expected_output = []\n",
    "        for group in item['expected_output']:\n",
    "            modified_group = []\n",
    "            for page in group:\n",
    "                modified_group.append(page + 1)\n",
    "            modified_expected_output.append(modified_group)\n",
    "        item['expected_output'] = modified_expected_output\n",
    "        json_line = json.dumps(item, ensure_ascii=False)\n",
    "        jsonl_file.write(json_line + '\\n')"
   ]
  }
 ],
 "metadata": {
  "kernelspec": {
   "display_name": "metagpt",
   "language": "python",
   "name": "python3"
  },
  "language_info": {
   "codemirror_mode": {
    "name": "ipython",
    "version": 3
   },
   "file_extension": ".py",
   "mimetype": "text/x-python",
   "name": "python",
   "nbconvert_exporter": "python",
   "pygments_lexer": "ipython3",
   "version": "3.9.21"
  }
 },
 "nbformat": 4,
 "nbformat_minor": 2
}
